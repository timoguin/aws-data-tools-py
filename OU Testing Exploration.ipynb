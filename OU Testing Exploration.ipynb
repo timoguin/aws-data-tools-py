{
 "cells": [
  {
   "cell_type": "code",
   "execution_count": null,
   "id": "beneficial-reliance",
   "metadata": {},
   "outputs": [],
   "source": [
    "from json import dumps\n",
    "from os.path import abspath\n",
    "from re import sub\n",
    "\n",
    "# Splits each line (a path representation) in the text file into a list of path elements.\n",
    "# We can use the length of the list to determine the nesting depth of each OU\n",
    "org_ou_file = './tests/organization_ous.txt'\n",
    "org_ou_paths = []\n",
    "with open(abspath(org_ou_file)) as f:\n",
    "    org_ou_paths = f.readlines()\n",
    "org_ou_path_list = [sub('^\\/', '', ou_path).rstrip('\\n').split('/') for ou_path in org_ou_paths]\n",
    "print(dumps(org_ou_path_list, indent=4))"
   ]
  },
  {
   "cell_type": "code",
   "execution_count": null,
   "id": "wanted-bangkok",
   "metadata": {},
   "outputs": [],
   "source": [
    "# {\n",
    "#   node1 = [child1, child2, child3],\n",
    "#   node2 = [child1, child2, child3],\n",
    "#   note3 = [child1, child2, child3]\n",
    "# }\n",
    "\n",
    "# - create a UUID for each node. since we can't guarantee path uniqueness due to mutability,\n",
    "#   the UUID can be used to track notes prior to getting an ou_id from the Organizations API.\n",
    "# - paths with single elements are root OUs\n",
    "# - paths with more than one element are nested OUs\n",
    "# - create the OUs starting with the roots inwards\n",
    "# - \n",
    "\n",
    "\n",
    "# Unique, non-changing hash for each OU\n",
    "# - Input OU ARN (guaranteed not to change)\n",
    "# - Generate a sha1 hash\n",
    "# - Trim the hash to 8 chars"
   ]
  },
  {
   "cell_type": "code",
   "execution_count": null,
   "id": "upper-bleeding",
   "metadata": {},
   "outputs": [],
   "source": [
    "def get_root_ous(ou_path_list: list[str]):\n",
    "    if len(ou_path_list) == 0:\n",
    "        raise Exception('Received an empty list')\n",
    "    root_ous = []\n",
    "    for ou_path in ou_path_list:\n",
    "        if len(ou_path) == 0:\n",
    "            print('Warning: OU path element is empty. Skipping.')\n",
    "            continue\n",
    "        root_ous.append(ou_path[0])\n",
    "    return list(set(root_ous))"
   ]
  },
  {
   "cell_type": "code",
   "execution_count": null,
   "id": "civilian-prison",
   "metadata": {},
   "outputs": [],
   "source": [
    "root_ous = get_root_ous(org_ou_path_list)\n",
    "print(dumps(root_ous))"
   ]
  },
  {
   "cell_type": "code",
   "execution_count": null,
   "id": "4b604cc6",
   "metadata": {},
   "outputs": [],
   "source": [
    "from hashlib import sha1\n",
    "\n",
    "def gen_sha1_id(id_str: str, length: int = 6):\n",
    "    return sha1(id_str.encode()).hexdigest()[0:length]"
   ]
  },
  {
   "cell_type": "code",
   "execution_count": null,
   "id": "phantom-insert",
   "metadata": {},
   "outputs": [],
   "source": [
    "from aws_data_tools import models\n",
    "org = models.AWSOrganization.init()\n",
    "org.get_ous()\n",
    "print(f'Root ID: {org.root_id}')\n",
    "print(f'First OU: {org.ous[0]}')"
   ]
  },
  {
   "cell_type": "code",
   "execution_count": null,
   "id": "9339945b",
   "metadata": {},
   "outputs": [],
   "source": [
    "# root_ous = {gen_sha1_id(ou['id']): ou for ou in org.ous}\n",
    "root_ous = {ou['id']: ou for ou in org.ous}\n",
    "root_ous\n"
   ]
  },
  {
   "cell_type": "code",
   "execution_count": null,
   "id": "3bdc58ca",
   "metadata": {},
   "outputs": [],
   "source": [
    "ous_raw = root_ous_raw\n",
    "\n",
    "unvisited_nodes = org.ous\n",
    "\n",
    "# Create initial digraph with the root ous\n",
    "org_digraph = { org.root_id: org.ous }"
   ]
  },
  {
   "cell_type": "code",
   "execution_count": null,
   "id": "379e8336",
   "metadata": {},
   "outputs": [],
   "source": [
    "for node in unvisited_nodes:\n",
    "    children = org.list_children_for_parent(parent_id=node['id'], child_type='organizational_unit')\n",
    "    org_digraph[node['id']] = children"
   ]
  },
  {
   "cell_type": "code",
   "execution_count": null,
   "id": "b4afc6b3",
   "metadata": {},
   "outputs": [],
   "source": [
    "ous = {\n",
    "    'lvl_1': org.get_ous()\n",
    "}\n",
    "\n",
    "for \n",
    "\n",
    "\n",
    "_ = [\n",
    "    {**ou, **{\"children\": org.list_children_for_parent(parent_id=ou[\"id\"], child_type=\"organizational_unit\")}}\n",
    "    for ou in org.ous\n",
    "]\n",
    "\n"
   ]
  },
  {
   "cell_type": "code",
   "execution_count": null,
   "id": "5ed6b78e",
   "metadata": {},
   "outputs": [],
   "source": [
    "[{x['name']: len(x['children'])} for x in ous_with_children_lvl_1]"
   ]
  },
  {
   "cell_type": "markdown",
   "id": "31602d7a",
   "metadata": {},
   "source": [
    "# DFS Queue Method"
   ]
  },
  {
   "cell_type": "code",
   "execution_count": 23,
   "id": "710b7684",
   "metadata": {},
   "outputs": [
    {
     "ename": "ClientError",
     "evalue": "An error occurred (ExpiredTokenException) when calling the DescribeOrganization operation: The security token included in the request is expired",
     "output_type": "error",
     "traceback": [
      "\u001b[0;31m---------------------------------------------------------------------------\u001b[0m",
      "\u001b[0;31mClientError\u001b[0m                               Traceback (most recent call last)",
      "\u001b[0;32m<ipython-input-23-cf661d612f33>\u001b[0m in \u001b[0;36m<module>\u001b[0;34m\u001b[0m\n\u001b[1;32m     13\u001b[0m \u001b[0mOU_MAX_DEPTH\u001b[0m \u001b[0;34m=\u001b[0m \u001b[0;36m5\u001b[0m\u001b[0;34m\u001b[0m\u001b[0;34m\u001b[0m\u001b[0m\n\u001b[1;32m     14\u001b[0m \u001b[0;34m\u001b[0m\u001b[0m\n\u001b[0;32m---> 15\u001b[0;31m \u001b[0morg\u001b[0m \u001b[0;34m=\u001b[0m \u001b[0mAWSOrganization\u001b[0m\u001b[0;34m.\u001b[0m\u001b[0mInit\u001b[0m\u001b[0;34m(\u001b[0m\u001b[0;34m)\u001b[0m\u001b[0;34m\u001b[0m\u001b[0;34m\u001b[0m\u001b[0m\n\u001b[0m\u001b[1;32m     16\u001b[0m \u001b[0;34m\u001b[0m\u001b[0m\n\u001b[1;32m     17\u001b[0m \u001b[0;31m# recurse OUs to build a parent=>children tree as a dict\u001b[0m\u001b[0;34m\u001b[0m\u001b[0;34m\u001b[0m\u001b[0;34m\u001b[0m\u001b[0m\n",
      "\u001b[0;32m~/dev/github/timoguin/aws-data-tools-py/aws_data_tools/models/__init__.py\u001b[0m in \u001b[0;36mInit\u001b[0;34m(self, **kwargs)\u001b[0m\n\u001b[1;32m    186\u001b[0m     \u001b[0;32mdef\u001b[0m \u001b[0mInit\u001b[0m\u001b[0;34m(\u001b[0m\u001b[0mself\u001b[0m\u001b[0;34m,\u001b[0m \u001b[0;34m**\u001b[0m\u001b[0mkwargs\u001b[0m\u001b[0;34m:\u001b[0m \u001b[0mOptional\u001b[0m\u001b[0;34m[\u001b[0m\u001b[0mdict\u001b[0m\u001b[0;34m]\u001b[0m\u001b[0;34m)\u001b[0m\u001b[0;34m:\u001b[0m\u001b[0;34m\u001b[0m\u001b[0;34m\u001b[0m\u001b[0m\n\u001b[1;32m    187\u001b[0m         \u001b[0;31m# self.accounts_from_root = kwargs.get('accounts_from_root', True)\u001b[0m\u001b[0;34m\u001b[0m\u001b[0;34m\u001b[0m\u001b[0;34m\u001b[0m\u001b[0m\n\u001b[0;32m--> 188\u001b[0;31m         \u001b[0mdata\u001b[0m \u001b[0;34m=\u001b[0m \u001b[0mAWSOrganization\u001b[0m\u001b[0;34m.\u001b[0m\u001b[0m__fetch_data\u001b[0m\u001b[0;34m(\u001b[0m\u001b[0;34m)\u001b[0m\u001b[0;34m\u001b[0m\u001b[0;34m\u001b[0m\u001b[0m\n\u001b[0m\u001b[1;32m    189\u001b[0m         \u001b[0;32mreturn\u001b[0m \u001b[0mfrom_dict\u001b[0m\u001b[0;34m(\u001b[0m\u001b[0mdata_class\u001b[0m\u001b[0;34m=\u001b[0m\u001b[0mAWSOrganization\u001b[0m\u001b[0;34m,\u001b[0m \u001b[0mdata\u001b[0m\u001b[0;34m=\u001b[0m\u001b[0mdata\u001b[0m\u001b[0;34m)\u001b[0m\u001b[0;34m\u001b[0m\u001b[0;34m\u001b[0m\u001b[0m\n\u001b[1;32m    190\u001b[0m \u001b[0;34m\u001b[0m\u001b[0m\n",
      "\u001b[0;32m~/dev/github/timoguin/aws-data-tools-py/aws_data_tools/models/__init__.py\u001b[0m in \u001b[0;36m__fetch_data\u001b[0;34m()\u001b[0m\n\u001b[1;32m    180\u001b[0m     \u001b[0;34m@\u001b[0m\u001b[0mstaticmethod\u001b[0m\u001b[0;34m\u001b[0m\u001b[0;34m\u001b[0m\u001b[0m\n\u001b[1;32m    181\u001b[0m     \u001b[0;32mdef\u001b[0m \u001b[0m__fetch_data\u001b[0m\u001b[0;34m(\u001b[0m\u001b[0;34m)\u001b[0m\u001b[0;34m:\u001b[0m\u001b[0;34m\u001b[0m\u001b[0;34m\u001b[0m\u001b[0m\n\u001b[0;32m--> 182\u001b[0;31m         \u001b[0mdata\u001b[0m \u001b[0;34m=\u001b[0m \u001b[0mapi\u001b[0m\u001b[0;34m(\u001b[0m\u001b[0;34m'organizations:describe_organization'\u001b[0m\u001b[0;34m)\u001b[0m\u001b[0;34m\u001b[0m\u001b[0;34m\u001b[0m\u001b[0m\n\u001b[0m\u001b[1;32m    183\u001b[0m         \u001b[0;32mreturn\u001b[0m \u001b[0mdata\u001b[0m\u001b[0;34m.\u001b[0m\u001b[0mget\u001b[0m\u001b[0;34m(\u001b[0m\u001b[0;34m'organization'\u001b[0m\u001b[0;34m)\u001b[0m\u001b[0;34m\u001b[0m\u001b[0;34m\u001b[0m\u001b[0m\n\u001b[1;32m    184\u001b[0m \u001b[0;34m\u001b[0m\u001b[0m\n",
      "\u001b[0;32m~/dev/github/timoguin/aws-data-tools-py/aws_data_tools/utils/__init__.py\u001b[0m in \u001b[0;36mapi\u001b[0;34m(service, **kwargs)\u001b[0m\n\u001b[1;32m     14\u001b[0m     \u001b[0mclient\u001b[0m \u001b[0;34m=\u001b[0m \u001b[0mboto3_client\u001b[0m\u001b[0;34m(\u001b[0m\u001b[0mservice\u001b[0m\u001b[0;34m)\u001b[0m\u001b[0;34m\u001b[0m\u001b[0;34m\u001b[0m\u001b[0m\n\u001b[1;32m     15\u001b[0m     \u001b[0mkwargs\u001b[0m \u001b[0;34m=\u001b[0m \u001b[0mpascalize\u001b[0m\u001b[0;34m(\u001b[0m\u001b[0mkwargs\u001b[0m\u001b[0;34m)\u001b[0m\u001b[0;34m\u001b[0m\u001b[0;34m\u001b[0m\u001b[0m\n\u001b[0;32m---> 16\u001b[0;31m     \u001b[0mresponse\u001b[0m \u001b[0;34m=\u001b[0m \u001b[0mgetattr\u001b[0m\u001b[0;34m(\u001b[0m\u001b[0mclient\u001b[0m\u001b[0;34m,\u001b[0m \u001b[0mfunc\u001b[0m\u001b[0;34m)\u001b[0m\u001b[0;34m(\u001b[0m\u001b[0;34m**\u001b[0m\u001b[0mkwargs\u001b[0m\u001b[0;34m)\u001b[0m\u001b[0;34m\u001b[0m\u001b[0;34m\u001b[0m\u001b[0m\n\u001b[0m\u001b[1;32m     17\u001b[0m     \u001b[0mdepascalized_response\u001b[0m \u001b[0;34m=\u001b[0m \u001b[0mdepascalize\u001b[0m\u001b[0;34m(\u001b[0m\u001b[0mresponse\u001b[0m\u001b[0;34m)\u001b[0m\u001b[0;34m\u001b[0m\u001b[0;34m\u001b[0m\u001b[0m\n\u001b[1;32m     18\u001b[0m     \u001b[0;32mreturn\u001b[0m \u001b[0mdepascalized_response\u001b[0m\u001b[0;34m\u001b[0m\u001b[0;34m\u001b[0m\u001b[0m\n",
      "\u001b[0;32m~/dev/github/timoguin/aws-data-tools-py/.venv/lib/python3.9/site-packages/botocore/client.py\u001b[0m in \u001b[0;36m_api_call\u001b[0;34m(self, *args, **kwargs)\u001b[0m\n\u001b[1;32m    384\u001b[0m                     \"%s() only accepts keyword arguments.\" % py_operation_name)\n\u001b[1;32m    385\u001b[0m             \u001b[0;31m# The \"self\" in this scope is referring to the BaseClient.\u001b[0m\u001b[0;34m\u001b[0m\u001b[0;34m\u001b[0m\u001b[0;34m\u001b[0m\u001b[0m\n\u001b[0;32m--> 386\u001b[0;31m             \u001b[0;32mreturn\u001b[0m \u001b[0mself\u001b[0m\u001b[0;34m.\u001b[0m\u001b[0m_make_api_call\u001b[0m\u001b[0;34m(\u001b[0m\u001b[0moperation_name\u001b[0m\u001b[0;34m,\u001b[0m \u001b[0mkwargs\u001b[0m\u001b[0;34m)\u001b[0m\u001b[0;34m\u001b[0m\u001b[0;34m\u001b[0m\u001b[0m\n\u001b[0m\u001b[1;32m    387\u001b[0m \u001b[0;34m\u001b[0m\u001b[0m\n\u001b[1;32m    388\u001b[0m         \u001b[0m_api_call\u001b[0m\u001b[0;34m.\u001b[0m\u001b[0m__name__\u001b[0m \u001b[0;34m=\u001b[0m \u001b[0mstr\u001b[0m\u001b[0;34m(\u001b[0m\u001b[0mpy_operation_name\u001b[0m\u001b[0;34m)\u001b[0m\u001b[0;34m\u001b[0m\u001b[0;34m\u001b[0m\u001b[0m\n",
      "\u001b[0;32m~/dev/github/timoguin/aws-data-tools-py/.venv/lib/python3.9/site-packages/botocore/client.py\u001b[0m in \u001b[0;36m_make_api_call\u001b[0;34m(self, operation_name, api_params)\u001b[0m\n\u001b[1;32m    703\u001b[0m             \u001b[0merror_code\u001b[0m \u001b[0;34m=\u001b[0m \u001b[0mparsed_response\u001b[0m\u001b[0;34m.\u001b[0m\u001b[0mget\u001b[0m\u001b[0;34m(\u001b[0m\u001b[0;34m\"Error\"\u001b[0m\u001b[0;34m,\u001b[0m \u001b[0;34m{\u001b[0m\u001b[0;34m}\u001b[0m\u001b[0;34m)\u001b[0m\u001b[0;34m.\u001b[0m\u001b[0mget\u001b[0m\u001b[0;34m(\u001b[0m\u001b[0;34m\"Code\"\u001b[0m\u001b[0;34m)\u001b[0m\u001b[0;34m\u001b[0m\u001b[0;34m\u001b[0m\u001b[0m\n\u001b[1;32m    704\u001b[0m             \u001b[0merror_class\u001b[0m \u001b[0;34m=\u001b[0m \u001b[0mself\u001b[0m\u001b[0;34m.\u001b[0m\u001b[0mexceptions\u001b[0m\u001b[0;34m.\u001b[0m\u001b[0mfrom_code\u001b[0m\u001b[0;34m(\u001b[0m\u001b[0merror_code\u001b[0m\u001b[0;34m)\u001b[0m\u001b[0;34m\u001b[0m\u001b[0;34m\u001b[0m\u001b[0m\n\u001b[0;32m--> 705\u001b[0;31m             \u001b[0;32mraise\u001b[0m \u001b[0merror_class\u001b[0m\u001b[0;34m(\u001b[0m\u001b[0mparsed_response\u001b[0m\u001b[0;34m,\u001b[0m \u001b[0moperation_name\u001b[0m\u001b[0;34m)\u001b[0m\u001b[0;34m\u001b[0m\u001b[0;34m\u001b[0m\u001b[0m\n\u001b[0m\u001b[1;32m    706\u001b[0m         \u001b[0;32melse\u001b[0m\u001b[0;34m:\u001b[0m\u001b[0;34m\u001b[0m\u001b[0;34m\u001b[0m\u001b[0m\n\u001b[1;32m    707\u001b[0m             \u001b[0;32mreturn\u001b[0m \u001b[0mparsed_response\u001b[0m\u001b[0;34m\u001b[0m\u001b[0;34m\u001b[0m\u001b[0m\n",
      "\u001b[0;31mClientError\u001b[0m: An error occurred (ExpiredTokenException) when calling the DescribeOrganization operation: The security token included in the request is expired"
     ]
    }
   ],
   "source": [
    "from aws_data_tools.models import (\n",
    "    AWSOrganization,\n",
    "    AWSOrganizationRoot,\n",
    "    AWSOrganizationRoots,\n",
    "    AWSOrganizationOU,\n",
    "    AWSOrganizationOUs,\n",
    "    AWSOrganizationAccount,\n",
    "    AWSOrganizationAccounts\n",
    ")\n",
    "\n",
    "\n",
    "# Organizations limits nesting depth to 5\n",
    "OU_MAX_DEPTH = 5\n",
    "\n",
    "org = AWSOrganization.Init()\n",
    "\n",
    "# recurse OUs to build a parent=>children tree as a dict \n",
    "def build_org_tree(parents=None, ous=None, tree=None, depth=1, maxdepth=5):\n",
    "    if depth == maxdepth or len(parents) == 0:\n",
    "        return {'ous': ous, 'tree': tree}\n",
    "    if ous is None:\n",
    "        ous = []\n",
    "    if tree is None:\n",
    "        tree = {}\n",
    "    children = []\n",
    "    print()\n",
    "    print(f'OU Level: {depth}')\n",
    "    print('========')\n",
    "    print(f'Num Parents: {len(parents)}')\n",
    "    parent_ids = str.join(\" \", [parent.id for parent in parents])\n",
    "    print(f'Parents: {parent_ids}')\n",
    "    print()\n",
    "    for parent in parents:\n",
    "        # print(parent)\n",
    "        parent_children = AWSOrganizationOUs.init(parent_id=parent.id).ous\n",
    "        for child in parent_children:\n",
    "            children.append(child)\n",
    "        ous.extend(parent_children)\n",
    "        tree.update({parent.id: parent_children})\n",
    "    build_org_tree(parents=children, ous=ous, tree=tree, depth=depth+1)\n",
    "\n",
    "org_data = build_org_tree([org.root])"
   ]
  },
  {
   "cell_type": "code",
   "execution_count": 13,
   "id": "2c0e9f8d",
   "metadata": {
    "collapsed": true
   },
   "outputs": [
    {
     "data": {
      "text/plain": [
       "{'r-iotf': ['ou-iotf-053pmb2c',\n",
       "  'ou-iotf-xdkmbt53',\n",
       "  'ou-iotf-mqg75o3p',\n",
       "  'ou-iotf-uwhirm40',\n",
       "  'ou-iotf-qltcjjwd',\n",
       "  'ou-iotf-bffzgqbw',\n",
       "  'ou-iotf-qo8o6fub',\n",
       "  'ou-iotf-y9lhcu50',\n",
       "  'ou-iotf-njh1zn1a',\n",
       "  'ou-iotf-krhbch7g',\n",
       "  'ou-iotf-exmifma1',\n",
       "  'ou-iotf-88qyt0of',\n",
       "  'ou-iotf-wjtvd5jd',\n",
       "  'ou-iotf-eobj1uxe',\n",
       "  'ou-iotf-gez0wmbw',\n",
       "  'ou-iotf-dd4y6w9y',\n",
       "  'ou-iotf-3bmi9csb'],\n",
       " 'ou-iotf-053pmb2c': None,\n",
       " 'ou-iotf-xdkmbt53': None,\n",
       " 'ou-iotf-mqg75o3p': None,\n",
       " 'ou-iotf-uwhirm40': None,\n",
       " 'ou-iotf-qltcjjwd': None,\n",
       " 'ou-iotf-bffzgqbw': None,\n",
       " 'ou-iotf-qo8o6fub': None,\n",
       " 'ou-iotf-y9lhcu50': None,\n",
       " 'ou-iotf-njh1zn1a': None,\n",
       " 'ou-iotf-krhbch7g': None,\n",
       " 'ou-iotf-exmifma1': None,\n",
       " 'ou-iotf-88qyt0of': None,\n",
       " 'ou-iotf-wjtvd5jd': None,\n",
       " 'ou-iotf-eobj1uxe': None,\n",
       " 'ou-iotf-gez0wmbw': None,\n",
       " 'ou-iotf-dd4y6w9y': None,\n",
       " 'ou-iotf-3bmi9csb': None}"
      ]
     },
     "execution_count": 13,
     "metadata": {},
     "output_type": "execute_result"
    }
   ],
   "source": [
    "ou_levels = dict.fromkeys(range(1,OU_MAX_DEPTH+1))\n",
    "ou_levels[1] = ous.ous\n",
    "ou_levels\n",
    "\n",
    "ou_tree_graph = {\n",
    "    org.root_id: [ou.id for ou in ous.ous]\n",
    "}\n",
    "\n",
    "ou_tree_graph = {**ou_tree_graph, **{ou_id: None for ou_id in ou_tree_graph[org.root_id]}}\n",
    "ou_tree_graph"
   ]
  },
  {
   "cell_type": "code",
   "execution_count": 22,
   "id": "7ae83b9e",
   "metadata": {},
   "outputs": [],
   "source": [
    "org_data"
   ]
  },
  {
   "cell_type": "code",
   "execution_count": 1,
   "id": "c418417b",
   "metadata": {},
   "outputs": [],
   "source": [
    "from aws_data_tools.models import (\n",
    "    AWSOrganization,\n",
    "    AWSOrganizationRoot,\n",
    "    AWSOrganizationRoots,\n",
    "    AWSOrganizationOU,\n",
    "    AWSOrganizationOUs,\n",
    "    AWSOrganizationAccount,\n",
    "    AWSOrganizationAccounts\n",
    ")\n",
    "\n",
    "org = AWSOrganization.Init()\n",
    "org.build_ou_tree()"
   ]
  },
  {
   "cell_type": "code",
   "execution_count": 3,
   "id": "06cee7f9",
   "metadata": {},
   "outputs": [
    {
     "data": {
      "text/plain": [
       "34"
      ]
     },
     "execution_count": 3,
     "metadata": {},
     "output_type": "execute_result"
    }
   ],
   "source": [
    "len(org.ous)"
   ]
  },
  {
   "cell_type": "code",
   "execution_count": 5,
   "id": "429730e9",
   "metadata": {},
   "outputs": [
    {
     "data": {
      "text/plain": [
       "dict_keys(['r-iotf', 'ou-iotf-053pmb2c', 'ou-iotf-xdkmbt53', 'ou-iotf-mqg75o3p', 'ou-iotf-uwhirm40', 'ou-iotf-qltcjjwd', 'ou-iotf-bffzgqbw', 'ou-iotf-qo8o6fub', 'ou-iotf-y9lhcu50', 'ou-iotf-njh1zn1a', 'ou-iotf-krhbch7g', 'ou-iotf-exmifma1', 'ou-iotf-88qyt0of', 'ou-iotf-wjtvd5jd', 'ou-iotf-eobj1uxe', 'ou-iotf-gez0wmbw', 'ou-iotf-dd4y6w9y', 'ou-iotf-3bmi9csb', 'ou-iotf-eor9nwuw', 'ou-iotf-3l4m9zr4', 'ou-iotf-dt34apb2', 'ou-iotf-7wo3fmr8', 'ou-iotf-67kh0y04', 'ou-iotf-jc84x6x4', 'ou-iotf-5qoyxtun', 'ou-iotf-bj7ertn3', 'ou-iotf-3e39pmqs', 'ou-iotf-cdhdrv6p', 'ou-iotf-ardxws5o', 'ou-iotf-3i4b958t', 'ou-iotf-c6tyeplj', 'ou-iotf-dybvopk7', 'ou-iotf-qdg49d4m', 'ou-iotf-yg6a3r6u', 'ou-iotf-w8p7yscv'])"
      ]
     },
     "execution_count": 5,
     "metadata": {},
     "output_type": "execute_result"
    }
   ],
   "source": [
    "org.ou_tree.keys()"
   ]
  }
 ],
 "metadata": {
  "kernelspec": {
   "display_name": "Python 3",
   "language": "python",
   "name": "python3"
  },
  "language_info": {
   "codemirror_mode": {
    "name": "ipython",
    "version": 3
   },
   "file_extension": ".py",
   "mimetype": "text/x-python",
   "name": "python",
   "nbconvert_exporter": "python",
   "pygments_lexer": "ipython3",
   "version": "3.9.2"
  }
 },
 "nbformat": 4,
 "nbformat_minor": 5
}
